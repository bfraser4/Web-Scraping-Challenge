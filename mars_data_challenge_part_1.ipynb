{
 "cells": [
  {
   "cell_type": "markdown",
   "metadata": {},
   "source": [
    "Scrape the Mars News website by using Splinter and Beautiful Soup. Specifically, scrape the title and preview text, or summary text, of each article on the landing page."
   ]
  },
  {
   "cell_type": "code",
   "execution_count": 7,
   "metadata": {},
   "outputs": [],
   "source": [
    "#Dependencies\n",
    "import os \n",
    "import requests\n",
    "from bs4 import BeautifulSoup\n",
    "from splinter import Browser\n",
    "from webdriver_manager.chrome import ChromeDriverManager\n",
    "from pprint import pprint"
   ]
  },
  {
   "cell_type": "code",
   "execution_count": 2,
   "metadata": {},
   "outputs": [
    {
     "name": "stderr",
     "output_type": "stream",
     "text": [
      "[WDM] - Downloading: 100%|██████████| 8.08M/8.08M [00:04<00:00, 1.95MB/s]\n"
     ]
    }
   ],
   "source": [
    "#Setup Splinter\n",
    "executable_path = {'executable_path': ChromeDriverManager().install()}\n",
    "browser = Browser('chrome', **executable_path, headless=False)"
   ]
  },
  {
   "cell_type": "code",
   "execution_count": 3,
   "metadata": {},
   "outputs": [],
   "source": [
    "#URL of page to be scraped \n",
    "url = 'https://redplanetscience.com/'\n",
    "browser.visit(url)\n",
    "\n",
    "# Retrieve page with the requests module\n",
    "response = requests.get(url)\n",
    "html = browser.html\n",
    "# Create BeautifulSoup object; parse with 'html.parser'\n",
    "soup = BeautifulSoup(html, 'html.parser')"
   ]
  },
  {
   "cell_type": "code",
   "execution_count": 8,
   "metadata": {},
   "outputs": [
    {
     "name": "stdout",
     "output_type": "stream",
     "text": [
      "[{'Summary:': \"The Red Planet's surface has been visited by eight NASA \"\n",
      "              'spacecraft. The ninth will be the first that includes a '\n",
      "              'roundtrip ticket in its flight plan. ',\n",
      "  'Title:': \"The Launch Is Approaching for NASA's Next Mars Rover, \"\n",
      "            'Perseverance'},\n",
      " {'Summary:': \"Sensors on NASA's Perseverance will help prepare for future \"\n",
      "              'human exploration by taking weather measurements and studying '\n",
      "              'dust particles.',\n",
      "  'Title:': 'Mars Is Getting a New Robotic Meteorologist'},\n",
      " {'Summary:': 'Engineers have a plan for pushing down on the heat probe, which '\n",
      "              'has been stuck at the Martian surface for a year.',\n",
      "  'Title:': \"Mars InSight Lander to Push on Top of the 'Mole'\"},\n",
      " {'Summary:': \"NASA's Mars InSight mission honored one of the biggest bands of \"\n",
      "              'all time at Pasadena concert.',\n",
      "  'Title:': \"NASA-JPL Names 'Rolling Stones Rock' on Mars\"},\n",
      " {'Summary:': \"\\u200bThe agency's Mars 2020 mission has one more big prelaunch \"\n",
      "              'review – the Launch Readiness Review, on July 27.',\n",
      "  'Title:': \"NASA's Mars Perseverance Rover Passes Flight Readiness Review\"},\n",
      " {'Summary:': 'Along with capturing an image before its steepest ascent ever, '\n",
      "              'the robotic explorer filmed its \"selfie stick,\" or robotic arm, '\n",
      "              'in action.',\n",
      "  'Title:': \"NASA's Curiosity Mars Rover Takes a New Selfie Before Record \"\n",
      "            'Climb'},\n",
      " {'Summary:': \"Marvels of engineering, the rover's sample tubes must be tough \"\n",
      "              'enough to safely bring Red Planet samples on the long journey '\n",
      "              'back to Earth in immaculate condition. ',\n",
      "  'Title:': \"A Martian Roundtrip: NASA's Perseverance Rover Sample Tubes\"},\n",
      " {'Summary:': \"Did you know NASA's next Mars rover has a nearly identical \"\n",
      "              \"sibling on Earth for testing? Even better, it's about to roll \"\n",
      "              'for the first time through a replica Martian landscape.',\n",
      "  'Title:': \"NASA Readies Perseverance Mars Rover's Earthly Twin \"},\n",
      " {'Summary:': 'Bill Allen has thrived as the mechanical systems design lead '\n",
      "              'for three Mars rover missions, but he got his start as a '\n",
      "              'teenager sorting letters for the NASA center.',\n",
      "  'Title:': \"From JPL's Mailroom to Mars and Beyond\"},\n",
      " {'Summary:': 'Scientists are finding new mysteries since the geophysics '\n",
      "              'mission landed two years ago.',\n",
      "  'Title:': \"3 Things We've Learned From NASA's Mars InSight \"},\n",
      " {'Summary:': 'The twin spacecraft, the first of their kind to fly into deep '\n",
      "              'space, earn a Laureate from Aviation Week & Space Technology.',\n",
      "  'Title:': \"NASA's Briefcase-Size MarCO Satellite Picks Up Honors\"},\n",
      " {'Summary:': \"NASA's next rover to the Red Planet is slated to launch no \"\n",
      "              'earlier than July 30. These highlights will get you up to speed '\n",
      "              'on the ambitious mission.',\n",
      "  'Title:': '7 Things to Know About the Mars 2020 Perseverance Rover Mission'},\n",
      " {'Summary:': 'NASA’s MAVEN spacecraft has discovered “layers” and “rifts” in '\n",
      "              'the electrically charged part of the upper atmosphere of Mars.',\n",
      "  'Title:': \"NASA's MAVEN Explores Mars to Understand Radio Interference at \"\n",
      "            'Earth'},\n",
      " {'Summary:': 'New images taken from space offer the clearest orbital glimpse '\n",
      "              'yet of InSight as well as a view of Curiosity rolling along.',\n",
      "  'Title:': \"HiRISE Views NASA's InSight and Curiosity on Mars\"},\n",
      " {'Summary:': 'Perseverance is one of a few Mars spacecraft carrying laser '\n",
      "              'retroreflectors. The devices could provide new science and '\n",
      "              'safer Mars landings in the future.',\n",
      "  'Title:': \"NASA's New Mars Rover Is Ready for Space Lasers\"}]\n"
     ]
    }
   ],
   "source": [
    "# Retrieve the parent divs for all articles\n",
    "results = soup.find_all('div', class_='col-md-8')\n",
    "article_list = []\n",
    "\n",
    "# loop over results to get article data\n",
    "for result in results:\n",
    "    # scrape the article header \n",
    "    header = result.find('div', class_='content_title').text\n",
    "    \n",
    "    # scrape the article news region\n",
    "    summary = result.find('div', class_='article_teaser_body').text\n",
    "\n",
    "    #Store results in Dictionary # printing twice \n",
    "    articles = {\n",
    "        'Title:' : header, \n",
    "        'Summary:' :summary\n",
    "    }\n",
    "    article_list.append(articles)\n",
    "\n",
    "pprint(article_list)"
   ]
  },
  {
   "cell_type": "code",
   "execution_count": 9,
   "metadata": {},
   "outputs": [],
   "source": [
    "#Quit browser after scraping\n",
    "browser.quit()\n"
   ]
  }
 ],
 "metadata": {
  "kernelspec": {
   "display_name": "Python 3.9.12 ('base')",
   "language": "python",
   "name": "python3"
  },
  "language_info": {
   "codemirror_mode": {
    "name": "ipython",
    "version": 3
   },
   "file_extension": ".py",
   "mimetype": "text/x-python",
   "name": "python",
   "nbconvert_exporter": "python",
   "pygments_lexer": "ipython3",
   "version": "3.9.12"
  },
  "orig_nbformat": 4,
  "vscode": {
   "interpreter": {
    "hash": "451d2264f7fe9ea4aed8c4fe3c72fa0b32d9ba08acb963d1646278e19bdadf77"
   }
  }
 },
 "nbformat": 4,
 "nbformat_minor": 2
}
